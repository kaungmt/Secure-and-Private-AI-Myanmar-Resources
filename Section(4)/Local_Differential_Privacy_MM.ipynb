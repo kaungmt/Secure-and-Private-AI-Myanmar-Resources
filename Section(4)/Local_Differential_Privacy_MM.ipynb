{
 "cells": [
  {
   "cell_type": "markdown",
   "metadata": {},
   "source": [
    "[![Open In Colab](https://colab.research.google.com/assets/colab-badge.svg)](https://colab.research.google.com/github/saihtaungkham/Secure-and-Private-AI-Myanmar-Resources/blob/master/Section(4)/Local_Differential_Privacy_MM.ipynb)"
   ]
  },
  {
   "cell_type": "markdown",
   "metadata": {},
   "source": [
    "ဒီ Notebook မှာတော့ ကျွန်တော်တို့ Local Differential Privacy မှာ ထည့်ပေါင်းထားတဲ့ Noise ကိုဘယ်လိုဖယ်ရှားနိုင်လဲ ဆိုတဲ့ လက်တွေ့ကို ပြုလုပ်မှာဖြစ်ပါတယ်။ <br>\n",
    "(၁) အရင်ဆုံးကျွန်တော်တို့ လိုအပ်တဲ့ Dataset ကိုတည်ဆောက်ရမှာဖြစ်ပါတယ်။ <br>\n",
    "(၂) အဲ့ဒီ Dataset ကတော့ ကျွန်တော်တို့ Survey ကောက်လို့ရလာတဲ့ ရလဒ်လို့ပဲ ယူဆရအောင်လားဗျာ။"
   ]
  },
  {
   "cell_type": "code",
   "execution_count": 1,
   "metadata": {
    "ExecuteTime": {
     "end_time": "2019-08-12T06:03:02.281153Z",
     "start_time": "2019-08-12T06:03:02.278236Z"
    }
   },
   "outputs": [],
   "source": [
    "# အရင်ဆုံးကျွန်တော်တို့ Simulation လုပ်ဖို့အတွက် လိုအပ်တဲ့ Library ကို Import လုပ်မှာ ဖြစ်ပါတယ်။\n",
    "\n",
    "import numpy as np"
   ]
  },
  {
   "cell_type": "code",
   "execution_count": 2,
   "metadata": {
    "ExecuteTime": {
     "end_time": "2019-08-12T06:03:02.295463Z",
     "start_time": "2019-08-12T06:03:02.283771Z"
    }
   },
   "outputs": [
    {
     "data": {
      "text/plain": [
       "array([0, 1, 1, 0, 0, 1, 0, 0, 0, 0, 0, 0, 0, 0, 1, 0, 1, 1, 1, 0, 1, 1,\n",
       "       0, 1, 1, 0, 1, 1, 1, 1, 0, 1, 1, 1, 0, 1, 1, 1, 0, 0, 0, 0, 0, 1,\n",
       "       1, 0, 0, 1, 0, 0, 0, 0, 1, 1, 1, 0, 1, 0, 1, 0, 1, 0, 0, 0, 1, 0,\n",
       "       0, 0, 0, 0, 0, 0, 1, 1, 1, 0, 1, 1, 1, 1, 0, 1, 1, 0, 0, 1, 1, 1,\n",
       "       0, 0, 0, 0, 1, 0, 1, 0, 0, 0, 1, 1], dtype=uint8)"
      ]
     },
     "execution_count": 2,
     "metadata": {},
     "output_type": "execute_result"
    }
   ],
   "source": [
    "# ဒါကတော့ ကျွန်တော်တို့ Random Number ကို Generate လုပ်မှာဖြစ်ပါတယ်။\n",
    "# လူအယောက်တစ်ရာဆီက Survey ကိုကောက်တယ်လို့ သဘောထားပါ။\n",
    "# ၀ နဲ့ ၁ ကတော့ မေးခွန်းမေးပြီး လုပ်ဖူးတယ်ဆိုရင် ၁ ကို ဖြေကြမှာ၊ မလုပ်ဖူးရင်တော့ ၀ ကို ဖြေတယ်လို့ယူဆပါ။\n",
    "\n",
    "(np.random.rand(100) > 0.5).astype('uint8')"
   ]
  },
  {
   "cell_type": "code",
   "execution_count": 3,
   "metadata": {
    "ExecuteTime": {
     "end_time": "2019-08-12T06:03:02.301336Z",
     "start_time": "2019-08-12T06:03:02.297957Z"
    }
   },
   "outputs": [],
   "source": [
    "survey_db = (np.random.rand(100) > 0.5).astype('uint8')"
   ]
  },
  {
   "cell_type": "code",
   "execution_count": 4,
   "metadata": {
    "ExecuteTime": {
     "end_time": "2019-08-12T06:03:02.308549Z",
     "start_time": "2019-08-12T06:03:02.303723Z"
    }
   },
   "outputs": [
    {
     "data": {
      "text/plain": [
       "0.54"
      ]
     },
     "execution_count": 4,
     "metadata": {},
     "output_type": "execute_result"
    }
   ],
   "source": [
    "# ဒီနေရာမှာတော့ စုစုပေါင်းရလဒ်အစား ကျွန်တော် ပျမ်းမျှရှာထားတာဖြစ်ပါတယ်။\n",
    "# ဒီတန်ဖိုးကို မှတ်ထားပါ။ အမှန်တကယ် Real World မှာဖြစ်ပျက်နေတဲ့ ရလဒ်ဖြစ်ပါတယ်။\n",
    "\n",
    "survey_db.astype('float').mean()"
   ]
  },
  {
   "cell_type": "code",
   "execution_count": 5,
   "metadata": {
    "ExecuteTime": {
     "end_time": "2019-08-12T06:03:02.313287Z",
     "start_time": "2019-08-12T06:03:02.310465Z"
    }
   },
   "outputs": [],
   "source": [
    "# ပထမအကြိမ် အကြွေစေ့ကို လှိမ့်လို့ရလာတဲ့ ရလဒ်ဖြစ်ပါတယ်။\n",
    "# လူအယောက် ၁၀၀ ရှိတဲ့အတွက် အကြိမ် ၁၀၀ အကြွေစေ့လှိမ့်တာနဲ့ တူတူပါပဲ။\n",
    "# 1 သည် ခေါင်းကို ရည်ညွှန်းပြီး 0 သည် ပန်းကို ရည်ညွှန်းတာဖြစ်ပါတယ်။\n",
    "\n",
    "first_coin_flip = (np.random.rand(100) > 0.5).astype('uint8')"
   ]
  },
  {
   "cell_type": "code",
   "execution_count": 6,
   "metadata": {
    "ExecuteTime": {
     "end_time": "2019-08-12T06:03:02.319361Z",
     "start_time": "2019-08-12T06:03:02.315249Z"
    }
   },
   "outputs": [
    {
     "data": {
      "text/plain": [
       "array([1, 1, 1, 1, 1, 1, 1, 0, 0, 0, 1, 0, 1, 1, 1, 0, 1, 1, 0, 0, 0, 0,\n",
       "       0, 0, 0, 0, 0, 1, 1, 0, 0, 1, 1, 0, 1, 0, 0, 1, 0, 0, 1, 0, 1, 0,\n",
       "       0, 0, 0, 1, 0, 1, 0, 0, 1, 1, 0, 1, 1, 0, 1, 1, 1, 0, 0, 0, 1, 1,\n",
       "       1, 1, 0, 0, 1, 0, 1, 1, 0, 0, 0, 0, 1, 0, 0, 0, 1, 0, 0, 1, 0, 0,\n",
       "       1, 1, 0, 1, 0, 0, 0, 0, 0, 1, 1, 0], dtype=uint8)"
      ]
     },
     "execution_count": 6,
     "metadata": {},
     "output_type": "execute_result"
    }
   ],
   "source": [
    "first_coin_flip"
   ]
  },
  {
   "cell_type": "code",
   "execution_count": 7,
   "metadata": {
    "ExecuteTime": {
     "end_time": "2019-08-12T06:03:02.324909Z",
     "start_time": "2019-08-12T06:03:02.322274Z"
    }
   },
   "outputs": [],
   "source": [
    "# ဒါကတော့ ဒုတိယ အကြိမ်အကြွေစေ့ လှိမ့်တဲ့ Simulation ပါ။\n",
    "\n",
    "second_coin_flip = (np.random.rand(100) > 0.5).astype('uint8')"
   ]
  },
  {
   "cell_type": "code",
   "execution_count": 8,
   "metadata": {
    "ExecuteTime": {
     "end_time": "2019-08-12T06:03:02.331485Z",
     "start_time": "2019-08-12T06:03:02.326551Z"
    }
   },
   "outputs": [
    {
     "data": {
      "text/plain": [
       "array([0, 1, 1, 0, 1, 0, 1, 0, 1, 1, 0, 1, 0, 1, 1, 1, 1, 0, 1, 0, 0, 1,\n",
       "       0, 0, 0, 0, 1, 1, 0, 1, 1, 1, 0, 1, 1, 1, 0, 0, 0, 0, 1, 0, 1, 0,\n",
       "       1, 1, 0, 0, 1, 0, 1, 1, 1, 1, 1, 1, 0, 1, 0, 1, 0, 1, 0, 0, 0, 1,\n",
       "       1, 1, 1, 1, 0, 0, 1, 1, 1, 0, 1, 1, 1, 0, 0, 1, 0, 0, 0, 1, 1, 0,\n",
       "       0, 1, 1, 1, 0, 1, 0, 0, 0, 0, 1, 0], dtype=uint8)"
      ]
     },
     "execution_count": 8,
     "metadata": {},
     "output_type": "execute_result"
    }
   ],
   "source": [
    "second_coin_flip"
   ]
  },
  {
   "cell_type": "code",
   "execution_count": 9,
   "metadata": {
    "ExecuteTime": {
     "end_time": "2019-08-12T06:03:02.339319Z",
     "start_time": "2019-08-12T06:03:02.334135Z"
    },
    "scrolled": true
   },
   "outputs": [
    {
     "data": {
      "text/plain": [
       "array([1, 1, 1, 1, 0, 0, 1, 0, 0, 0, 0, 0, 1, 0, 0, 0, 0, 0, 0, 0, 0, 0,\n",
       "       0, 0, 0, 0, 0, 0, 1, 0, 0, 0, 0, 0, 1, 0, 0, 1, 0, 0, 1, 0, 0, 0,\n",
       "       0, 0, 0, 1, 0, 1, 0, 0, 1, 1, 0, 1, 1, 0, 0, 1, 0, 0, 0, 0, 1, 1,\n",
       "       0, 0, 0, 0, 0, 0, 0, 0, 0, 0, 0, 0, 0, 0, 0, 0, 0, 0, 0, 1, 0, 0,\n",
       "       1, 1, 0, 1, 0, 0, 0, 0, 0, 1, 1, 0], dtype=uint8)"
      ]
     },
     "execution_count": 9,
     "metadata": {},
     "output_type": "execute_result"
    }
   ],
   "source": [
    "# အမှန်တကယ် အဖြေနဲ့ ပထမ အကြွေစေ့ရဲ့ ရလဒ်ကို မြှောက်တာပါ။\n",
    "# ရည်ရွယ်ချက်ကတော့ ပထမအကြိမ်အကြွေစေ့လှိမ့်တဲ့နေရာမှာ ခေါင်း (1) ကျခဲ့ရင် ရိုးသားစွာဖြေဆိုရမှာပါ။\n",
    "# ဒါကြောင့် လုပ်ဖူးတယ် (1) * ခေါင်း (1) ဆိုရင် အဲ့လူရဲ့ Survey ရဲ့ရလဒ်ဟာ 1 ဖြစ်နေမှာပါ။\n",
    "\n",
    "survey_db * first_coin_flip"
   ]
  },
  {
   "cell_type": "code",
   "execution_count": 10,
   "metadata": {
    "ExecuteTime": {
     "end_time": "2019-08-12T06:03:02.345602Z",
     "start_time": "2019-08-12T06:03:02.341353Z"
    },
    "scrolled": true
   },
   "outputs": [
    {
     "data": {
      "text/plain": [
       "array([0, 0, 0, 0, 0, 0, 0, 0, 1, 1, 0, 1, 0, 0, 0, 1, 0, 0, 1, 0, 0, 1,\n",
       "       0, 0, 0, 0, 1, 0, 0, 1, 1, 0, 0, 1, 0, 1, 0, 0, 0, 0, 0, 0, 0, 0,\n",
       "       1, 1, 0, 0, 1, 0, 1, 1, 0, 0, 1, 0, 0, 1, 0, 0, 0, 1, 0, 0, 0, 0,\n",
       "       0, 0, 1, 1, 0, 0, 0, 0, 1, 0, 1, 1, 0, 0, 0, 1, 0, 0, 0, 0, 1, 0,\n",
       "       0, 0, 1, 0, 0, 1, 0, 0, 0, 0, 0, 0], dtype=uint8)"
      ]
     },
     "execution_count": 10,
     "metadata": {},
     "output_type": "execute_result"
    }
   ],
   "source": [
    "# ဒါကတော့ ဒုတိယအကြွေစေ့အတွက်ဖြစ်ပါတယ်။ တကယ်လို့ ပထမအကြွေစေ့မှာ ပန်း (0) ကျခဲ့မယ်ဆိုရင် \n",
    "# ဒုတိယ အကြွေစေ့ကို လှိမ့်ဖို့လိုအပ်လာပါပြီ။ ဒုတိယအကြွေစေ့မှာ ခေါင်း (1) ကျခဲ့ရင် လုပ်ဖူးတယ် (1)\n",
    "# လို့ဖြေရပါမယ်။ ပန်း (0) ကျရင်တော့ မလုပ်ဖူးဘူး (0) လို့ဖြေရမှာပါ။\n",
    "\n",
    "# (1 - first_coin_flip) -> ပထမမှာ ပန်းကျခဲ့မယ်ဆိုရင်\n",
    "# (1- first_coin_flip) * second_coin_flip -> ဒုတိယ အကြွေစေ့ရဲ့ရလဒ်ကို ယူမယ်။\n",
    "# (1 - 0) * (1 or 0) = (1 * (1 or 0)) -> Second coin result!\n",
    "\n",
    "(1 - first_coin_flip) * second_coin_flip"
   ]
  },
  {
   "cell_type": "code",
   "execution_count": 11,
   "metadata": {
    "ExecuteTime": {
     "end_time": "2019-08-12T06:03:02.353956Z",
     "start_time": "2019-08-12T06:03:02.350028Z"
    }
   },
   "outputs": [],
   "source": [
    "# (survey_db.astype('float') * first_coin_flip) -> ပထမ အကြွေစေ့မှာ ခေါင်းဆိုရင် Survey_db (အမှန်) အတိုင်းဖြေ\n",
    "# (1 - first_coin_flip) * second_coin_flip -> ပထမမှာ ပန်းကျခဲ့မယ်ဆိုရင် ဒုတိယ အကြွေစေ့ရဲ့ရလဒ်ကို ယူမယ်။\n",
    "\n",
    "survey_db_with_noise = (survey_db.astype('float') * first_coin_flip) + (1 - first_coin_flip) * second_coin_flip"
   ]
  },
  {
   "cell_type": "code",
   "execution_count": 12,
   "metadata": {
    "ExecuteTime": {
     "end_time": "2019-08-12T06:03:02.362309Z",
     "start_time": "2019-08-12T06:03:02.355866Z"
    },
    "scrolled": true
   },
   "outputs": [
    {
     "data": {
      "text/plain": [
       "array([1., 1., 1., 1., 0., 0., 1., 0., 1., 1., 0., 1., 1., 0., 0., 1., 0.,\n",
       "       0., 1., 0., 0., 1., 0., 0., 0., 0., 1., 0., 1., 1., 1., 0., 0., 1.,\n",
       "       1., 1., 0., 1., 0., 0., 1., 0., 0., 0., 1., 1., 0., 1., 1., 1., 1.,\n",
       "       1., 1., 1., 1., 1., 1., 1., 0., 1., 0., 1., 0., 0., 1., 1., 0., 0.,\n",
       "       1., 1., 0., 0., 0., 0., 1., 0., 1., 1., 0., 0., 0., 1., 0., 0., 0.,\n",
       "       1., 1., 0., 1., 1., 1., 1., 0., 1., 0., 0., 0., 1., 1., 0.])"
      ]
     },
     "execution_count": 12,
     "metadata": {},
     "output_type": "execute_result"
    }
   ],
   "source": [
    "# နောက်ဆုံးမှာ ကျွန်တော်တို့ Noise ပါတဲ့ Survey ရလဒ်ရလာပါပြီ။\n",
    "\n",
    "survey_db_with_noise"
   ]
  },
  {
   "cell_type": "code",
   "execution_count": 13,
   "metadata": {
    "ExecuteTime": {
     "end_time": "2019-08-12T06:03:02.368995Z",
     "start_time": "2019-08-12T06:03:02.364194Z"
    }
   },
   "outputs": [
    {
     "data": {
      "text/plain": [
       "0.53"
      ]
     },
     "execution_count": 13,
     "metadata": {},
     "output_type": "execute_result"
    }
   ],
   "source": [
    "# အပေါ်မှာ Noise မပါတဲ့ ရလဒ်ဟာ 0.54 ပါ။ Noise ပေါင်းလိုက်တော့ 0.53 ဖြစ်သွားပါတယ်။\n",
    "survey_db_with_noise.astype('float').mean()"
   ]
  },
  {
   "cell_type": "code",
   "execution_count": 14,
   "metadata": {
    "ExecuteTime": {
     "end_time": "2019-08-12T06:03:02.375695Z",
     "start_time": "2019-08-12T06:03:02.371192Z"
    }
   },
   "outputs": [
    {
     "data": {
      "text/plain": [
       "0.56"
      ]
     },
     "execution_count": 14,
     "metadata": {},
     "output_type": "execute_result"
    }
   ],
   "source": [
    "# Noise ကိုဖယ်ရှားဖို့ Equation ပါ။ အပိုင်း (၃) မှာဖော်ပြထားပါတယ်။\n",
    "# သို့သော်ငြားလည်း အဖြေမှန်သည် 0.54 ပါ။ ကျွန်တော်တို့ရလာတဲ့ ရလဒ်သည် 0.56 ပါမှားနေပါတယ်။\n",
    "# ဒါပေမယ့် Law of Large Numbers အရ ကျွန်တော်တို့သည် Survey ကောက်တဲ့ လူဦးရေများလေလေ\n",
    "# တစ်နည်းအားဖြင့် အကြွေစေ့ကို များများလှိမ့်လေလေ ကျွန်တော်တို့ Noise ဖယ်ရှားတဲ့နေရာမှာ မှန်ကန်တဲ့ \n",
    "# ရလဒ် ရလေပဲဖြစ်ပါတယ်။\n",
    "\n",
    "survey_db_with_noise.astype('float').mean() * 2 - 0.5"
   ]
  },
  {
   "cell_type": "code",
   "execution_count": 15,
   "metadata": {
    "ExecuteTime": {
     "end_time": "2019-08-12T06:03:02.382418Z",
     "start_time": "2019-08-12T06:03:02.377780Z"
    }
   },
   "outputs": [],
   "source": [
    "# ဒါကတော့ အပေါ်မှာ ဖော်ပြခဲ့တဲ့ အဆင့်တွေအားလုံးကို Function နဲ့ပြန်ရေးထားတာပဲဖြစ်ပါတယ်။\n",
    "def do_survey(survey_data):\n",
    "    # Real World ကတကယ့်ဖြစ်ပျက်နေတဲ့ အချက်အလက်ရဲ့ ပျမ်းမျှ\n",
    "    actual_result = survey_data.astype('float').mean()\n",
    "    \n",
    "    # Coin လှိမ့်တဲ့ Simulation ပါ\n",
    "    first_coin_flip = (np.random.rand(len(survey_data)) > 0.5).astype('uint8')\n",
    "    second_coin_flip = (np.random.rand(len(survey_data)) > 0.5).astype('uint8')\n",
    "    \n",
    "    survey_db_with_noise = (survey_data.astype('float') * first_coin_flip) + (1 - first_coin_flip) * second_coin_flip\n",
    "    \n",
    "    # Noise ကိုဖယ်ရှားတာပါ\n",
    "    remove_noise = survey_db_with_noise.astype('float').mean() * 2 - 0.5\n",
    "    \n",
    "    # Real World ရလဒ်နဲ့ Noise ဖယ်ရှားပြီးသား ရလဒ်ပါ\n",
    "    return actual_result, remove_noise"
   ]
  },
  {
   "cell_type": "code",
   "execution_count": 16,
   "metadata": {
    "ExecuteTime": {
     "end_time": "2019-08-12T06:03:02.388562Z",
     "start_time": "2019-08-12T06:03:02.384428Z"
    }
   },
   "outputs": [
    {
     "data": {
      "text/plain": [
       "(0.54, 0.48)"
      ]
     },
     "execution_count": 16,
     "metadata": {},
     "output_type": "execute_result"
    }
   ],
   "source": [
    "do_survey(survey_db)"
   ]
  },
  {
   "cell_type": "code",
   "execution_count": 20,
   "metadata": {
    "ExecuteTime": {
     "end_time": "2019-08-12T06:04:18.265434Z",
     "start_time": "2019-08-12T06:04:18.257885Z"
    }
   },
   "outputs": [
    {
     "name": "stdout",
     "output_type": "stream",
     "text": [
      "With Noise:0.5\n",
      "Noise Removed:0.09999999999999998\n",
      "......\n",
      "With Noise:0.51\n",
      "Noise Removed:0.48\n",
      "......\n",
      "With Noise:0.495\n",
      "Noise Removed:0.46199999999999997\n",
      "......\n",
      "With Noise:0.4941\n",
      "Noise Removed:0.4952\n",
      "......\n"
     ]
    }
   ],
   "source": [
    "# Survey မှာ လူ ၁၀ ယောက်၊ အယောက် ၁၀၀၊ ၁၀၀၀၊ ၁၀၀၀၀ နဲ့ Simulation လုပ်ကြည့်ပါမယ်။\n",
    "# သတိထားရမယ့်အချက်ကတော့ Survey လုပ်တဲ့ လူအရေအတွက်များလာလေ Real World ရဲ့ရလဒ်နဲ့\n",
    "# Noise ဖယ်ရှားပြီးသား ရလဒ် တဖြည်းဖြည်း နီးကပ်လာတာကို တွေ့ရမှာပါ။\n",
    "# ဒါကတော့ Law of Large Numbers မှန်ကန်ကြောင်း သက်သေပြတာနဲ့ ကျွန်တော့်တို့ Equation မှန်ကန်\n",
    "# ကြောင်း သက်သေပြတာပါ။\n",
    "\n",
    "for item in [10, 100, 1000, 10000]:\n",
    "    # Real World ကတကယ့်ဖြစ်ပျက်နေတဲ့ အချက်အလက်ကို ဖန်တီးခြင်း\n",
    "    db = (np.random.rand(item) > 0.5).astype('uint8')\n",
    "    private_result, true_result = do_survey(db)\n",
    "    print(\"With Noise:\" + str(private_result))\n",
    "    print(\"Noise Removed:\" + str(true_result))\n",
    "    print(\"......\")"
   ]
  }
 ],
 "metadata": {
  "hide_input": false,
  "kernelspec": {
   "display_name": "fb_ai",
   "language": "python",
   "name": "fb_ai"
  },
  "language_info": {
   "codemirror_mode": {
    "name": "ipython",
    "version": 3
   },
   "file_extension": ".py",
   "mimetype": "text/x-python",
   "name": "python",
   "nbconvert_exporter": "python",
   "pygments_lexer": "ipython3",
   "version": "3.7.3"
  },
  "toc": {
   "base_numbering": 1,
   "nav_menu": {},
   "number_sections": true,
   "sideBar": true,
   "skip_h1_title": false,
   "title_cell": "Table of Contents",
   "title_sidebar": "Contents",
   "toc_cell": false,
   "toc_position": {},
   "toc_section_display": true,
   "toc_window_display": false
  },
  "varInspector": {
   "cols": {
    "lenName": 16,
    "lenType": 16,
    "lenVar": 40
   },
   "kernels_config": {
    "python": {
     "delete_cmd_postfix": "",
     "delete_cmd_prefix": "del ",
     "library": "var_list.py",
     "varRefreshCmd": "print(var_dic_list())"
    },
    "r": {
     "delete_cmd_postfix": ") ",
     "delete_cmd_prefix": "rm(",
     "library": "var_list.r",
     "varRefreshCmd": "cat(var_dic_list()) "
    }
   },
   "types_to_exclude": [
    "module",
    "function",
    "builtin_function_or_method",
    "instance",
    "_Feature"
   ],
   "window_display": false
  }
 },
 "nbformat": 4,
 "nbformat_minor": 2
}
